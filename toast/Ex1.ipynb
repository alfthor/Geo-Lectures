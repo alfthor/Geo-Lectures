{
 "cells": [
  {
   "cell_type": "code",
   "execution_count": 2,
   "metadata": {},
   "outputs": [],
   "source": [
    "myName = 'Thoralf'"
   ]
  },
  {
   "cell_type": "code",
   "execution_count": 3,
   "metadata": {},
   "outputs": [
    {
     "name": "stdout",
     "output_type": "stream",
     "text": [
      "Thoralf\n"
     ]
    }
   ],
   "source": [
    "print(myName)"
   ]
  },
  {
   "cell_type": "code",
   "execution_count": 27,
   "metadata": {},
   "outputs": [
    {
     "name": "stdout",
     "output_type": "stream",
     "text": [
      "T\n",
      "h\n",
      "o\n",
      "r\n",
      "a\n",
      "l\n",
      "f\n"
     ]
    }
   ],
   "source": [
    "for i in myName:\n",
    "    if i in ('a','e','i','o','u'):\n",
    "        print(i)"
   ]
  },
  {
   "cell_type": "code",
   "execution_count": 11,
   "metadata": {},
   "outputs": [
    {
     "name": "stdout",
     "output_type": "stream",
     "text": [
      "['Hello', 'how', 'are', 'you']\n"
     ]
    }
   ],
   "source": [
    "texut = \"Hello how are you?\"\n",
    "words = texut.replace('?',' ').split()\n",
    "print(words)"
   ]
  },
  {
   "cell_type": "code",
   "execution_count": 34,
   "metadata": {},
   "outputs": [
    {
     "name": "stdout",
     "output_type": "stream",
     "text": [
      "this is WilfriedPeeterman, he is from Nowhere\n",
      "Costa Rica\n"
     ]
    }
   ],
   "source": [
    "citizens = {'Thoralf':'Costa Rica','Eva': 'Iceland','Wilfried Peeterman': 'Nowhere'}\n",
    "\n",
    "citizens = dict(\n",
    "    Thoralf ='Costa Rica',\n",
    "    Eva= 'Iceland',\n",
    "    WilfriedPeeterman = 'Nowhere')\n",
    "\n",
    "person = 'WilfriedPeeterman'\n",
    "print('this is {}, he is from {}'.format(person,citizens[person]))\n",
    "print(citizens['Thoralf'])"
   ]
  },
  {
   "cell_type": "code",
   "execution_count": 35,
   "metadata": {},
   "outputs": [
    {
     "name": "stdout",
     "output_type": "stream",
     "text": [
      "Enter you Name and siblings, please: Thor 2\n",
      "The person Thor has 2 siblings\n"
     ]
    }
   ],
   "source": [
    "Name, Siblings = input(\"Enter you Name and siblings, please: \").split() \n",
    "print(\"The person {} has {} siblings\".format(Name,Siblings)) \n",
    "#print(\"Number of girls: \", y) "
   ]
  },
  {
   "cell_type": "code",
   "execution_count": null,
   "metadata": {},
   "outputs": [],
   "source": []
  }
 ],
 "metadata": {
  "kernelspec": {
   "display_name": "Python 3",
   "language": "python",
   "name": "python3"
  },
  "language_info": {
   "codemirror_mode": {
    "name": "ipython",
    "version": 3
   },
   "file_extension": ".py",
   "mimetype": "text/x-python",
   "name": "python",
   "nbconvert_exporter": "python",
   "pygments_lexer": "ipython3",
   "version": "3.4.3"
  }
 },
 "nbformat": 4,
 "nbformat_minor": 2
}
