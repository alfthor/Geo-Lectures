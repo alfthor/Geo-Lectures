{
 "cells": [
  {
   "cell_type": "markdown",
   "metadata": {},
   "source": [
    "# Control Flow\n",
    "\n",
    "\n",
    "#### The most common control flows blocks, in almost any language, are:\n",
    "   * if statment\n",
    "   * for loop\n",
    "   * while loop\n",
    "\n",
    "#### Pyhton control flows specs:\n",
    "\n",
    "   * Blocks are delimited by indentation\n",
    "   * Indentation is compulsory!\n",
    "   * The Ipython shell automatically increases the indentation depth after a colon : sign; to decrease the indentation depth, go four spaces to the left with the Backspace key. Press the Enter key twice to leave the logical block."
   ]
  },
  {
   "cell_type": "markdown",
   "metadata": {},
   "source": [
    "## If statements\n",
    "\n",
    "You can use  <font color='green' style=\"font-weight:bold\">if</font>  statements to run code if a certain condition holds.\n",
    "\n",
    "If an expression evaluates to <font color='green' style=\"font-weight:bold\">True</font>, some statements are carried out. Otherwise, they aren't carried out.\n",
    "\n",
    "Logic expretions:\n",
    "\n",
    "| Operator | Meaning  |\n",
    "|  :----:  |---------:|\n",
    "|    ==    |  Equal   |\n",
    "|    !=    | Not equal|\n",
    "|    >     |  Bigger  |\n",
    "|    <     | Smaller |\n",
    "|    >=    | Bigger or Equal  |\n",
    "|    <=    | Smaller or Equal |\n",
    "\n",
    "An if statement looks like this:"
   ]
  },
  {
   "cell_type": "code",
   "execution_count": 1,
   "metadata": {},
   "outputs": [
    {
     "name": "stdout",
     "output_type": "stream",
     "text": [
      "True, execute this.\n"
     ]
    }
   ],
   "source": [
    "if True:\n",
    "    print(\"True, execute this.\")"
   ]
  },
  {
   "cell_type": "markdown",
   "metadata": {},
   "source": [
    "If you want to carried out the <font color='green' style=\"font-weight:bold\">False</font> logic you can catch it at the <font color='green' style=\"font-weight:bold\">else</font> block:"
   ]
  },
  {
   "cell_type": "code",
   "execution_count": 2,
   "metadata": {},
   "outputs": [
    {
     "name": "stdout",
     "output_type": "stream",
     "text": [
      "Fase, execute this instead.\n"
     ]
    }
   ],
   "source": [
    "if False:\n",
    "    print(\"True, execute this.\")\n",
    "else:\n",
    "    print(\"Fase, execute this instead.\")"
   ]
  },
  {
   "cell_type": "markdown",
   "metadata": {},
   "source": [
    "We can also use the keyword <font color='green' style=\"font-weight:bold\">not</font> to reverse the boolean:"
   ]
  },
  {
   "cell_type": "code",
   "execution_count": 3,
   "metadata": {},
   "outputs": [
    {
     "name": "stdout",
     "output_type": "stream",
     "text": [
      "1 is NOT bigger than 2\n"
     ]
    }
   ],
   "source": [
    "is_one_biggerthan_two = 1 > 2 # Obvious not\n",
    "if not is_one_biggerthan_two:\n",
    "    print(\"1 is NOT bigger than 2\")"
   ]
  },
  {
   "cell_type": "code",
   "execution_count": 4,
   "metadata": {},
   "outputs": [
    {
     "name": "stdout",
     "output_type": "stream",
     "text": [
      "Right\n"
     ]
    }
   ],
   "source": [
    "if 1 != 2:\n",
    "    print(\"Right\")"
   ]
  },
  {
   "cell_type": "code",
   "execution_count": 5,
   "metadata": {},
   "outputs": [
    {
     "name": "stdout",
     "output_type": "stream",
     "text": [
      "a is not either 1 or 2\n"
     ]
    }
   ],
   "source": [
    "a = 10\n",
    "if a == 1:\n",
    "    print(1)\n",
    "elif a == 2:\n",
    "    print(2)\n",
    "else:\n",
    "    print('a is not either 1 or 2')"
   ]
  },
  {
   "cell_type": "markdown",
   "metadata": {},
   "source": [
    "We can also create a more complex logic using <font color='green' style=\"font-weight:bold\">and</font> or <font color='green' style=\"font-weight:bold\">or</font> operators. "
   ]
  },
  {
   "cell_type": "code",
   "execution_count": 6,
   "metadata": {},
   "outputs": [
    {
     "name": "stdout",
     "output_type": "stream",
     "text": [
      "a is equal b or equal 4\n"
     ]
    }
   ],
   "source": [
    "a = 4\n",
    "b = 2\n",
    "if a == b or a == 4:\n",
    "    print(\"a is equal b or equal 4\")\n",
    "elif a > b:\n",
    "    print(\"a is bigger than b\")\n",
    "else:\n",
    "    print(\"false to all\")"
   ]
  },
  {
   "cell_type": "code",
   "execution_count": 7,
   "metadata": {},
   "outputs": [
    {
     "name": "stdout",
     "output_type": "stream",
     "text": [
      "a is bigger than b\n"
     ]
    }
   ],
   "source": [
    "a = 4\n",
    "b = 2\n",
    "if a == b and a == 4:\n",
    "    print(\"a is equal b or equal 4\")\n",
    "elif a > b:\n",
    "    print(\"a is bigger than b\")\n",
    "else:\n",
    "    print(\"false to all\")"
   ]
  },
  {
   "cell_type": "code",
   "execution_count": 8,
   "metadata": {},
   "outputs": [
    {
     "name": "stdout",
     "output_type": "stream",
     "text": [
      "false to all\n"
     ]
    }
   ],
   "source": [
    "a = 4\n",
    "b = 2\n",
    "if a == b and a == 4:\n",
    "    print(\"a is equal b or equal 4\")\n",
    "elif a < b:\n",
    "    print(\"a is smaller than b\")\n",
    "else:\n",
    "    print(\"false to all\")"
   ]
  },
  {
   "cell_type": "markdown",
   "metadata": {},
   "source": [
    "## For loop\n",
    "\n",
    "   * Most common loops in python\n",
    "   * Iterating with an index\n",
    "   * Or iterate over values"
   ]
  },
  {
   "cell_type": "markdown",
   "metadata": {},
   "source": [
    "A simple python for loop would be:\n",
    "    \n",
    "    Note: range(x) creates an iterator from 0 to x-1."
   ]
  },
  {
   "cell_type": "code",
   "execution_count": null,
   "metadata": {},
   "outputs": [
    {
     "name": "stdout",
     "output_type": "stream",
     "text": [
      "0\n",
      "1\n",
      "2\n",
      "3\n"
     ]
    }
   ],
   "source": [
    "for i in range(4):\n",
    "    print(i)"
   ]
  },
  {
   "cell_type": "code",
   "execution_count": null,
   "metadata": {},
   "outputs": [
    {
     "name": "stdout",
     "output_type": "stream",
     "text": [
      "Python is cool\n",
      "Python is powerful\n",
      "Python is readable\n"
     ]
    }
   ],
   "source": [
    "for word in ('cool', 'powerful', 'readable'):\n",
    "    print('Python is {}'.format(word))"
   ]
  },
  {
   "cell_type": "markdown",
   "metadata": {},
   "source": [
    "We can iterate over a list very easily:"
   ]
  },
  {
   "cell_type": "code",
   "execution_count": null,
   "metadata": {},
   "outputs": [
    {
     "name": "stdout",
     "output_type": "stream",
     "text": [
      "Do task:  Clean the house\n",
      "Do task:  Make dinner\n",
      "Do task:  Play with the dog\n"
     ]
    }
   ],
   "source": [
    "lisf_of_tasks = ['Clean the house', 'Make dinner', 'Play with the dog']\n",
    "for tasks in lisf_of_tasks:\n",
    "    print(\"Do task: \", tasks)"
   ]
  },
  {
   "cell_type": "markdown",
   "metadata": {},
   "source": [
    "## While loop\n",
    "\n",
    "   The <font color='green' style=\"font-weight:bold\">while</font> loop run indefinitely until the statements is <font color='green' style=\"font-weight:bold\">True</font>.\n",
    "   \n",
    "   It should be used with caution since your code could enter in an infinity loop when bad programmed."
   ]
  },
  {
   "cell_type": "code",
   "execution_count": null,
   "metadata": {},
   "outputs": [
    {
     "name": "stdout",
     "output_type": "stream",
     "text": [
      "task 1 done\n",
      "task 2 done\n",
      "task 3 done\n",
      "All tasks done!!\n"
     ]
    }
   ],
   "source": [
    "task_number = 1\n",
    "total_tasks = 3\n",
    "while task_number <= total_tasks:\n",
    "    print(\"task {} done\".format(task_number))\n",
    "    task_number += 1 # coment this line to create an infinity loop\n",
    "else:\n",
    "    print(\"All tasks done!!\")\n",
    "    "
   ]
  },
  {
   "cell_type": "markdown",
   "metadata": {},
   "source": [
    "We can use <font color='green' style=\"font-weight:bold\">break</font> to exit a <font color='green' style=\"font-weight:bold\">for</font> or <font color='green' style=\"font-weight:bold\">while</font> loop."
   ]
  },
  {
   "cell_type": "code",
   "execution_count": null,
   "metadata": {},
   "outputs": [
    {
     "name": "stdout",
     "output_type": "stream",
     "text": [
      "task 1 done\n",
      "task 2 done\n",
      "task 3 done\n"
     ]
    }
   ],
   "source": [
    "task_number = 1\n",
    "total_tasks = 3\n",
    "while True:\n",
    "    print(\"task {} done\".format(task_number))\n",
    "    if task_number == total_tasks:\n",
    "        break\n",
    "    task_number += 1 # coment this line to create an infinity loop"
   ]
  },
  {
   "cell_type": "markdown",
   "metadata": {},
   "source": [
    "Another statement that can be used within loops is <font color='green' style=\"font-weight:bold\">continue</font>. \n",
    "Unlike <font color='green' style=\"font-weight:bold\">break</font>, <font color='green' style=\"font-weight:bold\">continues</font> jumps back to the top of the loop, rather than stopping it."
   ]
  },
  {
   "cell_type": "code",
   "execution_count": null,
   "metadata": {},
   "outputs": [
    {
     "name": "stdout",
     "output_type": "stream",
     "text": [
      "1\n",
      "Skipping at 2\n",
      "3\n",
      "4\n",
      "Breaking at 5\n",
      "Finished\n"
     ]
    }
   ],
   "source": [
    "i = 0\n",
    "while True:\n",
    "    i += 1\n",
    "    if i == 2:\n",
    "        print(\"Skipping at 2\")\n",
    "        continue\n",
    "    if i == 5:\n",
    "        print(\"Breaking at 5\")\n",
    "        break\n",
    "    print(i)\n",
    "\n",
    "print(\"Finished\")"
   ]
  },
  {
   "cell_type": "markdown",
   "metadata": {},
   "source": [
    "### Next a simple exemple of a calculator using a control flow"
   ]
  },
  {
   "cell_type": "code",
   "execution_count": null,
   "metadata": {},
   "outputs": [
    {
     "name": "stdout",
     "output_type": "stream",
     "text": [
      "Options:\n",
      "Enter add to add two numbers\n",
      "Enter sub to subtract two numbers\n",
      "Enter mult to multiply two numbers\n",
      "Enter div to divide two numbers\n",
      "Enter quit to end the program\n",
      "mode: add\n",
      "Enter a number: 1\n",
      "Enter a number: 1\n",
      "Result: 1.0 + 1.0 = 2.0\n"
     ]
    }
   ],
   "source": [
    "calc_mode = (\"add\", \"sub\", \"mult\", \"div\", \"quit\")\n",
    "calc_mode_info = (\"add two numbers\", \n",
    "                             \"subtract two numbers\", \n",
    "                             \"multiply two numbers\", \n",
    "                             \"divide two numbers\", \n",
    "                             \"end the program\")\n",
    "calc_dict = {mode: info for mode, info in zip(calc_mode, calc_mode_info)}\n",
    "showOptions = True\n",
    "\n",
    "while True:\n",
    "    if showOptions:\n",
    "        print(\"Options:\")\n",
    "        for mode, info in calc_dict.items():\n",
    "            print(\"Enter {mode} to {info}\".format(mode=mode, info=info))\n",
    "        showOptions = False\n",
    "    user_input = input(\"mode: \")\n",
    "    if user_input == \"quit\":\n",
    "        break\n",
    "    \n",
    "    # validates user's entry\n",
    "    try:\n",
    "        user_input_num = input(\"Enter a number: \")\n",
    "        num1 = float(user_input_num)\n",
    "        user_input_num = input(\"Enter a number: \")\n",
    "        num2 = float(user_input_num)\n",
    "        \n",
    "        # do calculation    \n",
    "        if user_input == \"add\":\n",
    "            value = num1 + num2\n",
    "            print(\"Result: {} + {} = {}\".format(num1, num2, value)) \n",
    "        elif user_input == \"sub\":\n",
    "            value = num1 - num2\n",
    "            print(\"Result: {} - {} = {}\".format(num1, num2, value)) \n",
    "        elif user_input == \"mult\":\n",
    "            value = num1 * num2\n",
    "            print(\"Result: {} * {} = {}\".format(num1, num2, value)) \n",
    "        elif user_input == \"div\":\n",
    "            try:\n",
    "                value = num1 / num2\n",
    "                print(\"Result: {} / {} = {}\".format(num1, num2, value))\n",
    "            except ZeroDivisionError:\n",
    "                print(\"Can't divide by zero\") \n",
    "        else:\n",
    "            print(\"Unknown mode\")\n",
    "            \n",
    "    except ValueError:\n",
    "        print(\"{} is not a valid number.\".format(user_input_num))"
   ]
  },
  {
   "cell_type": "code",
   "execution_count": null,
   "metadata": {},
   "outputs": [],
   "source": []
  }
 ],
 "metadata": {
  "kernelspec": {
   "display_name": "Python 3",
   "language": "python",
   "name": "python3"
  },
  "language_info": {
   "codemirror_mode": {
    "name": "ipython",
    "version": 3
   },
   "file_extension": ".py",
   "mimetype": "text/x-python",
   "name": "python",
   "nbconvert_exporter": "python",
   "pygments_lexer": "ipython3",
   "version": "3.4.3"
  }
 },
 "nbformat": 4,
 "nbformat_minor": 2
}
