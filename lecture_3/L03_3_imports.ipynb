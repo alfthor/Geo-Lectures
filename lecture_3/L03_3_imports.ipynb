{
 "cells": [
  {
   "cell_type": "markdown",
   "metadata": {},
   "source": [
    "## Imports\n",
    "\n",
    "The Python standard library alone contains extensive functionality. However, some tasks require the use of third-party libraries.\n",
    "\n",
    "Here is the list of the most common libraries used for scientific and mathematical computing with Python:\n",
    "\n",
    "   * <font style=\"font-weight:bold\">Matplotlib</font> -> used for graphs visualization [doc](https://matplotlib.org/).\n",
    "   * <font style=\"font-weight:bold\">Numpy</font> -> fast way to work with arrays [doc](https://docs.scipy.org/doc/numpy/user/quickstart.html).\n",
    "   * <font style=\"font-weight:bold\">Scipy</font> -> extensions to the functionality of NumPy [doc](https://docs.scipy.org/doc/scipy/reference/).\n",
    "   \n",
    "   \n",
    "Note: If you are using [Anaconda](https://www.anaconda.com/) you already have those packeges installed. However, if you prefer to use your own enviroment you can use pip to install the packges [install with pip](https://packaging.python.org/tutorials/installing-packages/).\n",
    "\n",
    "### Special package used in this course:\n",
    "\n",
    "   * <font style=\"font-weight:bold\">Obspy</font> -> Python framework for processing seismological data [doc](https://github.com/obspy/obspy/wiki#getting-started)."
   ]
  },
  {
   "cell_type": "markdown",
   "metadata": {},
   "source": [
    "<font style=\"font-weight:bold\">math</font> is a built-in python library. \n",
    "\n",
    "In this exemple we imported the number <font style=\"font-weight:bold\">pi</font> from it."
   ]
  },
  {
   "cell_type": "code",
   "execution_count": 1,
   "metadata": {},
   "outputs": [
    {
     "name": "stdout",
     "output_type": "stream",
     "text": [
      "Pi = 3.141592653589793\n"
     ]
    }
   ],
   "source": [
    "from math import pi\n",
    "\n",
    "print(\"Pi =\", pi)"
   ]
  },
  {
   "cell_type": "markdown",
   "metadata": {},
   "source": [
    "We could also import the whole library and use  <font style=\"font-weight:bold\">pi</font> or some other function from it like:"
   ]
  },
  {
   "cell_type": "code",
   "execution_count": 2,
   "metadata": {},
   "outputs": [
    {
     "name": "stdout",
     "output_type": "stream",
     "text": [
      "Pi = 3.141592653589793\n",
      "sin(pi/2) = 1.0\n"
     ]
    }
   ],
   "source": [
    "import math\n",
    "\n",
    "print(\"Pi =\", math.pi)\n",
    "print(\"sin(pi/2) =\", math.sin(math.pi / 2))"
   ]
  },
  {
   "cell_type": "markdown",
   "metadata": {},
   "source": [
    "Let's now use the <font style=\"font-weight:bold\">numpy</font> library.\n",
    "\n",
    "    Note: If you get an import error is because you don't have it installed!!\n",
    "    \n",
    "The keywork <font color=\"green\" style=\"font-weight:bold\">as</font> allow us to use the given library (numpy in this case) with an abreviation of it. For Numpy coomun abreviation are: np or num\n",
    "The keyword <font color=\"green\" style=\"font-weight:bold\">as</font> allowing us to use the given library (numpy in this case) with an abbreviation of it. For Numpy commun abbreviations are <font style=\"font-weight:bold\">np</font> or <font style=\"font-weight:bold\">num</font>."
   ]
  },
  {
   "cell_type": "code",
   "execution_count": 3,
   "metadata": {},
   "outputs": [
    {
     "name": "stdout",
     "output_type": "stream",
     "text": [
      "My first numpy array =  [ 0.  2.  4.  6.  8. 10.]\n",
      " A * B =  [0 4]\n",
      " A . B =  4\n"
     ]
    }
   ],
   "source": [
    "import numpy as np \n",
    "\n",
    "numpy_array = np.linspace(start = 0, stop = 10, num = 6)\n",
    "print(\"My first numpy array = \", numpy_array)\n",
    "\n",
    "list_a = [1,2]\n",
    "list_b = [0,2]\n",
    "\n",
    "np_array_a = np.array(list_a) # convert list to array\n",
    "np_array_b = np.array(list_b) # convert list to array\n",
    "\n",
    "a_prod_b = np_array_a * np_array_b\n",
    "a_dot_b = np.dot(np_array_a, np_array_b)\n",
    "print(\" A * B = \", a_prod_b)\n",
    "print(\" A . B = \", a_dot_b)"
   ]
  },
  {
   "cell_type": "markdown",
   "metadata": {},
   "source": [
    "We can also write our own python file and reuse it using <font color=\"green\" style=\"font-weight:bold\">import</font> .\n",
    "\n",
    "    Note: This is actually a good practice to keep your program clear and easy to read, logically grouping your functions in different files and not write all in one single file.\n",
    "    \n",
    "The file must be saved with the extension <font style=\"font-weight:bold\">.py</font>."
   ]
  },
  {
   "cell_type": "code",
   "execution_count": 4,
   "metadata": {},
   "outputs": [
    {
     "name": "stdout",
     "output_type": "stream",
     "text": [
      "import math\n",
      "from typing import NamedTuple\n",
      "\n",
      "# Gravitational constant in m^3 kg^-1 s^-2\n",
      "gravitational_constat = 6.67408E-11\n",
      "mass = 5.972E24 # kg\n",
      "radius = 6371E3 # m\n",
      "\n",
      "def get_grativity():\n",
      "    '''\n",
      "    Computes the Earth's  gravitational acceleration.\n",
      "    return: \n",
      "    The Earth's  gravitational acceleration.\n",
      "    '''\n",
      "    g = - gravitational_constat*mass / (radius * radius)\n",
      "    return g\n",
      "\n",
      "def get_weight(mass):\n",
      "    '''\n",
      "    Computes the force due to a given mass.\n",
      "    @param mass: The mass to compute the weight. Mass should be a number.\n",
      "    return: The force of gravity over the mass.\n",
      "\tF = mass * g\n",
      "    '''\n",
      "    weight = mass * get_grativity()\n",
      "    return weight\n",
      "\n",
      "# python class structure \n",
      "class OrbitalParameters(NamedTuple):\n",
      "    '''\n",
      "    Data structure for the orbital parameters.\n",
      "    '''\n",
      "    radius: float\n",
      "    theta: float\n",
      "    angular_velocity: float\n",
      "    radial_velocity: float\n",
      "\n",
      "    def __repr__(self):\n",
      "      return \"OrbitalParameters({},{},{},{}\".format(self.radius,self.theta,\n",
      "                                                  self.angular_velocity, self.radial_velocity)\n",
      "    def __str__(self):\n",
      "      return \"R = {}, Theta = {}, Vc = {}, Vr = {}\".format(self.radius,self.theta,\n",
      "                                                  self.angular_velocity, self.radial_velocity)\n",
      "\n",
      "\n",
      "# Integrate the orbit.\n",
      "def get_next_state(op: OrbitalParameters, dt):\n",
      "    r, theta, vc, vr = op\n",
      "    \n",
      "    # Solve the moviment equations.\n",
      "    r_next = r + vr * dt\n",
      "    theta_next = theta - vc * dt / r\n",
      "    vr_next = vr + dt * (vc * vc - 1./ r) / r\n",
      "    vc_next = vc * ( 1 - vr * dt / r)\n",
      "    return OrbitalParameters(r_next, theta_next, vc_next, vr_next)\n",
      "    \n",
      "def solve_motion_equation(radius, theta , radial_velocity):\n",
      "    '''\n",
      "    Solve the 2D motion equations for a grativational potential equal to 1/r.\n",
      "    The units here are arbitrary since GM = 1.\n",
      "    @param radius: The initial distance of the particle from the central body.\n",
      "    @param theta: The initial angle 0 is at x-axis and 90 at the y-axis.\n",
      "    @param radial_velocity: The initial radial vecolicy.\n",
      "    yield: The orbital parameters for each step.\n",
      "    '''\n",
      "    # setup initial conditions.\n",
      "    r, theta , vr = radius, theta , radial_velocity\n",
      "    vc = math.sqrt(1./r) # pure circular motion.\n",
      "    number_of_points_per_orbit = 1000\n",
      "    orbits = 10 \n",
      "    period = 2.* math.pi * r / vc\n",
      "    delta_time = period / number_of_points_per_orbit\n",
      "    number_of_steps = int (orbits * period / delta_time)\n",
      "    print(\"Radius = {}, Angular velocity = {} , Radial velocity = {}\".format(r, vc, vr))\n",
      "    \n",
      "    # generate orbit points.\n",
      "    op = OrbitalParameters(r, theta ,vc, vr)\n",
      "    for i in range(number_of_steps):\n",
      "        yield op\n",
      "        op = get_next_state(op, delta_time)\n",
      "\n",
      "\t\n",
      "\n"
     ]
    }
   ],
   "source": [
    "# This is our earth.py file.\n",
    "with open('python_code/earth.py') as file:\n",
    "    code = file.read()\n",
    "    print(code)"
   ]
  },
  {
   "cell_type": "code",
   "execution_count": 5,
   "metadata": {},
   "outputs": [
    {
     "name": "stdout",
     "output_type": "stream",
     "text": [
      "G =  6.67408e-11 m^3 kg^-1 s^-2\n",
      "Earth radius =  6371000.0 m\n",
      "Earth mass =  5.972e+24 kg\n",
      "Earth gravity =  -9.819649737724955 m s^-2\n",
      "My weight =  -589.1789842634973 N\n"
     ]
    }
   ],
   "source": [
    "from python_code import earth\n",
    "\n",
    "print(\"G = \", earth.gravitational_constat, \"m^3 kg^-1 s^-2\")\n",
    "print(\"Earth radius = \", earth.radius, \"m\")\n",
    "print(\"Earth mass = \", earth.mass, \"kg\")\n",
    "print(\"Earth gravity = \", earth.get_grativity(), \"m s^-2\")\n",
    "print(\"My weight = \", earth.get_weight(60), \"N\")"
   ]
  },
  {
   "cell_type": "markdown",
   "metadata": {},
   "source": [
    "###  Orbital solver\n",
    "\n",
    "In the example below we used some of the concepts we have learned so far, in a more interesting application.\n",
    "\n",
    " * Use of functions. \n",
    " * Working with lists.\n",
    " * Imports from third-party libraries and our own.\n",
    " \n",
    "#### Extra: \n",
    "   At the solve_motion_equation we make use of [yield](https://pythontips.com/2013/09/29/the-python-yield-keyword-explained/)\n",
    "   \n",
    "The method solve_motion_equation in the earth file solves a 2-Body motion equation for a radial force: \n",
    "\n",
    "$F \\propto -\\frac{1}{r^2}$, \n",
    "\n",
    "The set of equations, in polar coordenates are:\n",
    "\n",
    "$\\begin{align*}\n",
    "r_{i+1} &= r_i + v_{r_i}dt, & \\theta_{i+1} &= \\theta_i + \\omega_idt, \\\\\n",
    "v_{r_{i+1}} &= v_{r_i} + \\left( r_i\\omega_i^2 - \\frac{1.}{r_i^2} \\right) dt, &\n",
    "v_{\\theta_{i+1}} &= v_{\\theta_i}  \\left( 1 - \\frac{v_{r_i} dt}{r_i}\\right)\n",
    "\\end{align*}$ \n",
    "\n",
    "where, $v_{\\theta_i} = \\omega_i r_i$"
   ]
  },
  {
   "cell_type": "code",
   "execution_count": 6,
   "metadata": {},
   "outputs": [],
   "source": [
    "%matplotlib inline\n",
    "import matplotlib.pyplot as plt \n",
    "from ipywidgets import widgets\n",
    "\n",
    "# this is in our local directory.\n",
    "from python_code import earth \n",
    "\n",
    "# global \n",
    "orbital_data: [earth.OrbitalParameters]\n",
    "interactive_plot = None\n",
    "\n",
    "def update_plot():\n",
    "    global interactive_plot\n",
    "    \n",
    "    if interactive_plot:\n",
    "        interactive_plot.update(0)\n",
    "\n",
    "def start_numerical_integration(radius=0.2, angle=90, vr=2):\n",
    "    global orbital_data\n",
    "    \n",
    "    # Get solver from earth. Ps: solver is a generator (yield the values.)\n",
    "    solver = earth.solve_motion_equation(radius, angle * math.pi / 180., vr)\n",
    "    orbital_data = []\n",
    "    \n",
    "    # loop over solver and store data.\n",
    "    for op in solver:\n",
    "        orbital_data.append(op)\n",
    "    \n",
    "    # update plot if this function is called.\n",
    "    update_plot()  \n",
    "\n",
    "def plot_orbit(step):\n",
    "    global orbital_data\n",
    "    \n",
    "    # setup plot.\n",
    "    data_size = len(orbital_data)\n",
    "    max_radius = max([op.radius for op in orbital_data])\n",
    "    plt.figure(2)\n",
    "    plt.axis('scaled')\n",
    "    plt.xlim(- 1.1 * max_radius,  1.1 * max_radius)\n",
    "    plt.ylim(- 1.1 * max_radius,  1.1 * max_radius)\n",
    "    plt.xlabel('x')\n",
    "    plt.ylabel('y')\n",
    "    \n",
    "    # index position in the orbital data.\n",
    "    position_index = step - 1\n",
    "\n",
    "    # orbital parameters at this step.\n",
    "    r = orbital_data[position_index].radius\n",
    "    theta = orbital_data[position_index].theta\n",
    "    vc = orbital_data[position_index].angular_velocity\n",
    "    vr = orbital_data[position_index].radial_velocity\n",
    "    \n",
    "    # buffering data to a list using list slice.\n",
    "    trajector_buffer_x = [op.radius * np.cos(op.theta) for op in orbital_data[0:position_index]]\n",
    "    trajector_buffer_y = [op.radius * np.sin(op.theta) for op in orbital_data[0:position_index]]\n",
    "\n",
    "    # convert to cartesian coords.\n",
    "    x = r * np.cos(theta)\n",
    "    y = r * np.sin(theta)\n",
    "    # plot radius\n",
    "    plt.plot([0,x],[0,y], color=\"black\")\n",
    "    # plot central body\n",
    "    plt.plot(0, 0, 'o', color=\"blue\", markersize = 20)\n",
    "    # plot trajectroy\n",
    "    plt.plot(trajector_buffer_x,trajector_buffer_y, \"--\", color = \"black\")\n",
    "    # plot particle\n",
    "    plt.plot(x, y, 'o', color=\"green\", markersize = 5)\n",
    "    \n",
    "    # plot velocities vectors.\n",
    "    v = math.sqrt(vc**2 + vr**2)\n",
    "    vector_scale_c = 5*v/abs(vc + 0.0001)\n",
    "    vector_scale_r = 5*v/abs(vr + 0.0001)\n",
    "    sig = np.sign(vr)\n",
    "    plt.quiver([x],[y], [y/r], [-x/r] ,color = 'r', scale = vector_scale_c)\n",
    "    plt.quiver([x],[y], [sig*x/r], [sig*y/r] ,color = 'b', scale = vector_scale_r)\n"
   ]
  },
  {
   "cell_type": "markdown",
   "metadata": {},
   "source": [
    "Here we have made use of some interactive [widgets](https://ipywidgets.readthedocs.io/en/stable/examples/Widget%20Events.html) for jupyter notebook.\n",
    "\n",
    "You can interact with different initial conditions and see what happens with the orbit.\n",
    "\n",
    "    Note: The units here are arbitrary since we made \n",
    "$GM = 1$"
   ]
  },
  {
   "cell_type": "code",
   "execution_count": 7,
   "metadata": {},
   "outputs": [
    {
     "data": {
      "application/vnd.jupyter.widget-view+json": {
       "model_id": "d9233ecc2b554e069a4c8563c0805f2e",
       "version_major": 2,
       "version_minor": 0
      },
      "text/plain": [
       "Label(value='Choose initial conditions.')"
      ]
     },
     "metadata": {},
     "output_type": "display_data"
    },
    {
     "data": {
      "application/vnd.jupyter.widget-view+json": {
       "model_id": "56842c46ad354f578d891f2738287625",
       "version_major": 2,
       "version_minor": 0
      },
      "text/plain": [
       "interactive(children=(FloatSlider(value=0.1, description='radius', max=2.0, min=0.1), FloatSlider(value=90.0, …"
      ]
     },
     "metadata": {},
     "output_type": "display_data"
    }
   ],
   "source": [
    "caption = widgets.Label(value='Choose initial conditions.')\n",
    "radius_widget = widgets.FloatSlider(min = 0.1, max = 2., step=0.1)\n",
    "angle_widget = widgets.FloatSlider(min = 0, max = 360, step=5, value = 90)\n",
    "vr_widget = widgets.FloatSlider(min = -2, max = 2, step=0.1, value = 0.)\n",
    "widget_solver = widgets.interactive(start_numerical_integration, radius=radius_widget, \n",
    "                                                              angle=angle_widget,vr=vr_widget)\n",
    "display(caption, widget_solver)"
   ]
  },
  {
   "cell_type": "markdown",
   "metadata": {},
   "source": [
    "Plot the orbit using interaction.\n",
    "\n",
    "Move the slide bar <font style=\"font-weight:bold\">step</font> to evolve the orbit."
   ]
  },
  {
   "cell_type": "code",
   "execution_count": 8,
   "metadata": {},
   "outputs": [
    {
     "data": {
      "application/vnd.jupyter.widget-view+json": {
       "model_id": "6b4dd64e9e884986be2dd442d6f5f094",
       "version_major": 2,
       "version_minor": 0
      },
      "text/plain": [
       "interactive(children=(IntSlider(value=1, description='step', max=10000, min=1, step=10), Output(layout=Layout(…"
      ]
     },
     "metadata": {},
     "output_type": "display_data"
    },
    {
     "name": "stdout",
     "output_type": "stream",
     "text": [
      "Radius = 0.100\r"
     ]
    }
   ],
   "source": [
    "def print_info(change):\n",
    "    position_index = change['new'] - 1\n",
    "    r = orbital_data[position_index].radius\n",
    "    print(\"Radius = {:.3f}\".format(r), end='\\r')\n",
    "\n",
    "def display_plot():\n",
    "    global interactive_plot\n",
    "    step_widget = widgets.IntSlider(min=1, max=len(orbital_data), step=10)\n",
    "    interactive_plot = widgets.interactive(plot_orbit, step = step_widget)\n",
    "    info = step_widget.observe(print_info, names='value')\n",
    "    output = interactive_plot.children[-1]\n",
    "    output.layout.height = '350px'\n",
    "    return display(interactive_plot)\n",
    "\n",
    "display_plot()"
   ]
  },
  {
   "cell_type": "code",
   "execution_count": null,
   "metadata": {},
   "outputs": [],
   "source": []
  }
 ],
 "metadata": {
  "kernelspec": {
   "display_name": "Python 3",
   "language": "python",
   "name": "python3"
  },
  "language_info": {
   "codemirror_mode": {
    "name": "ipython",
    "version": 3
   },
   "file_extension": ".py",
   "mimetype": "text/x-python",
   "name": "python",
   "nbconvert_exporter": "python",
   "pygments_lexer": "ipython3",
   "version": "3.4.3"
  }
 },
 "nbformat": 4,
 "nbformat_minor": 2
}
