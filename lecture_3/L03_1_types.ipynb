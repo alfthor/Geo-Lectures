{
 "cells": [
  {
   "cell_type": "markdown",
   "metadata": {},
   "source": [
    "# First Steps"
   ]
  },
  {
   "cell_type": "markdown",
   "metadata": {},
   "source": [
    "## Primitive types\n",
    "\n",
    "These are the most primitive or the basic data structures. They are the building blocks for data manipulation and contain pure, simple values of a data. Python has four primitive variable types:\n",
    "\n",
    "  * Integers\n",
    "  * Float\n",
    "  * Strings\n",
    "  * Boolean"
   ]
  },
  {
   "cell_type": "markdown",
   "metadata": {},
   "source": [
    "### Interger and float"
   ]
  },
  {
   "cell_type": "code",
   "execution_count": 1,
   "metadata": {},
   "outputs": [],
   "source": [
    "a = 3\n",
    "b = 2."
   ]
  },
  {
   "cell_type": "code",
   "execution_count": 2,
   "metadata": {},
   "outputs": [],
   "source": [
    "print(\"a = {}, of type: {}\".format(a, type(a)))\n",
    "print(\"b = {}, of type: {}\".format(b, type(b)))"
   ]
  },
  {
   "cell_type": "markdown",
   "metadata": {},
   "source": [
    "Python implicitly convert to float an integer division, like the one below: \n",
    "            \n",
    "    Note: This convertion is duo to python's duck typing (or dynamic type). However, you should not really on it in this cases, it is always a good pratice to use: \n",
    "\n",
    "$a = \\frac{3.}{2.}$  instead of $a = \\frac{3}{2}$ for a float division."
   ]
  },
  {
   "cell_type": "code",
   "execution_count": 3,
   "metadata": {},
   "outputs": [],
   "source": [
    "a = 3/2"
   ]
  },
  {
   "cell_type": "code",
   "execution_count": 4,
   "metadata": {},
   "outputs": [],
   "source": [
    "print(\"a = {}, of type: {}\".format(a, type(a)))"
   ]
  },
  {
   "cell_type": "markdown",
   "metadata": {},
   "source": [
    "Although, if you want python to return an integer you can enforce it by doing:"
   ]
  },
  {
   "cell_type": "code",
   "execution_count": 5,
   "metadata": {
    "scrolled": true
   },
   "outputs": [],
   "source": [
    "a = int(3/2)\n",
    "print(\"a = {}, of type: {}\".format(a, type(a)))"
   ]
  },
  {
   "cell_type": "markdown",
   "metadata": {},
   "source": [
    "### String"
   ]
  },
  {
   "cell_type": "code",
   "execution_count": 6,
   "metadata": {},
   "outputs": [],
   "source": [
    "a = 'Hello'\n",
    "b = 'World'\n",
    "c = a + ' ' + b"
   ]
  },
  {
   "cell_type": "code",
   "execution_count": 7,
   "metadata": {},
   "outputs": [],
   "source": [
    "print(\"c = {}, of type: {}\".format(c, type(c)))"
   ]
  },
  {
   "cell_type": "markdown",
   "metadata": {},
   "source": [
    "We can convert strings to int or float\n",
    "\n",
    "    Note: when converting a string to number or some other data type is always a good practice to do the conversion within a try bock to catch ValueError."
   ]
  },
  {
   "cell_type": "code",
   "execution_count": 8,
   "metadata": {},
   "outputs": [],
   "source": [
    "a = '1'\n",
    "b = 'one'"
   ]
  },
  {
   "cell_type": "code",
   "execution_count": 9,
   "metadata": {},
   "outputs": [],
   "source": [
    "c = int(a) # cast a to integer.\n",
    "try:\n",
    "    d = int(b)\n",
    "except ValueError as error:\n",
    "    print(\"Except: \", error)"
   ]
  },
  {
   "cell_type": "code",
   "execution_count": 10,
   "metadata": {
    "scrolled": true
   },
   "outputs": [],
   "source": [
    "print(\"a = {}, of type: {}\".format(a, type(a)))\n",
    "print(\"b = {}, of type: {}\".format(b, type(b)))\n",
    "print(\"c = {}, of type: {}\".format(c, type(c)))"
   ]
  },
  {
   "cell_type": "markdown",
   "metadata": {},
   "source": [
    "We can manipulate strings using the method format:\n",
    "\n",
    "    Note: Use \n",
    "        filename = 'processing_of_dataset_%d.txt' % i,\n",
    "        \n",
    "    gives the same result as the format. Although, the format is newer and has a better readability"
   ]
  },
  {
   "cell_type": "code",
   "execution_count": 11,
   "metadata": {},
   "outputs": [
    {
     "data": {
      "text/plain": [
       "'processing_of_dataset_102.txt'"
      ]
     },
     "execution_count": 11,
     "metadata": {},
     "output_type": "execute_result"
    }
   ],
   "source": [
    "i = 102\n",
    "# filename = 'processing_of_dataset_%d.txt' % i\n",
    "filename = 'processing_of_dataset_{file_number}.txt'.format(file_number = i)\n",
    "filename"
   ]
  },
  {
   "cell_type": "markdown",
   "metadata": {},
   "source": [
    "### Boolean"
   ]
  },
  {
   "cell_type": "code",
   "execution_count": 12,
   "metadata": {},
   "outputs": [],
   "source": [
    "a = 1\n",
    "b = 2\n",
    "is_a_biggerthan_b = a > b"
   ]
  },
  {
   "cell_type": "code",
   "execution_count": 13,
   "metadata": {},
   "outputs": [
    {
     "name": "stdout",
     "output_type": "stream",
     "text": [
      "is 1 > 2 ? False, of type: <class 'bool'>\n"
     ]
    }
   ],
   "source": [
    "print(\"is {} > {} ? {}, of type: {}\".format(a, b, is_a_biggerthan_b, type(is_a_biggerthan_b)))"
   ]
  },
  {
   "cell_type": "markdown",
   "metadata": {},
   "source": [
    "# Non-Primitive Data Structures\n",
    "\n",
    "Non-primitive types are the sophisticated members of the data structure family. They don't just store a value, but rather a collection of values in various formats.\n",
    "\n",
    "  * Lists\n",
    "  * Tuples\n",
    "  * Dictionary\n",
    "  * Sets\n",
    "  * Files"
   ]
  },
  {
   "cell_type": "markdown",
   "metadata": {},
   "source": [
    "### List"
   ]
  },
  {
   "cell_type": "code",
   "execution_count": 14,
   "metadata": {},
   "outputs": [
    {
     "data": {
      "text/plain": [
       "list"
      ]
     },
     "execution_count": 14,
     "metadata": {},
     "output_type": "execute_result"
    }
   ],
   "source": [
    "colors = ['red', 'blue', 'green', 'black', 'white']\n",
    "type(colors)"
   ]
  },
  {
   "cell_type": "code",
   "execution_count": 15,
   "metadata": {},
   "outputs": [
    {
     "name": "stdout",
     "output_type": "stream",
     "text": [
      "Original list:  ['red', 'blue', 'green', 'black', 'white']\n"
     ]
    }
   ],
   "source": [
    "print(\"Original list: \", colors)"
   ]
  },
  {
   "cell_type": "code",
   "execution_count": 16,
   "metadata": {},
   "outputs": [
    {
     "name": "stdout",
     "output_type": "stream",
     "text": [
      "New list: ['red', 'blue', 'green', 'black', 'white', 'pink']\n"
     ]
    }
   ],
   "source": [
    "colors.append('pink') # add new item to the end of the list\n",
    "print(\"New list: {}\".format(colors))"
   ]
  },
  {
   "cell_type": "code",
   "execution_count": 17,
   "metadata": {},
   "outputs": [
    {
     "name": "stdout",
     "output_type": "stream",
     "text": [
      "Removed: pink, New list: ['red', 'blue', 'green', 'black', 'white']\n"
     ]
    }
   ],
   "source": [
    "removed_color = colors.pop() # removes & returns last item\n",
    "print(\"Removed: {}, New list: {}\".format(removed_color, colors))"
   ]
  },
  {
   "cell_type": "code",
   "execution_count": 18,
   "metadata": {},
   "outputs": [
    {
     "name": "stdout",
     "output_type": "stream",
     "text": [
      "Modified list :  ['yellow', 'blue', 'green', 'black', 'white']\n"
     ]
    }
   ],
   "source": [
    "colors[0] = 'yellow' # modify index 0\n",
    "print(\"Modified list : \", colors)"
   ]
  },
  {
   "cell_type": "markdown",
   "metadata": {},
   "source": [
    "Before doing an operation check for exsting bult-in methods in a class. \n",
    "\n",
    "In jupyter nootebook you can see the methods by pressing Tab after the . in the object instance.\n",
    "\n",
    "e.g colors -> instance of a list. Type colors. then press Tab"
   ]
  },
  {
   "cell_type": "code",
   "execution_count": 19,
   "metadata": {},
   "outputs": [
    {
     "name": "stdout",
     "output_type": "stream",
     "text": [
      "Reverse list 1:  ['white', 'black', 'green', 'blue', 'yellow']\n",
      "Reverse list 2:  ['white', 'black', 'green', 'blue', 'yellow']\n"
     ]
    }
   ],
   "source": [
    "rcolors_2 = colors.copy() # create a copy of the list and not a pointer\n",
    "rcolors = colors[::-1] #reverse\n",
    "rcolors_2.reverse() # do the same as above, but instead uses a bult in method from the list class\n",
    "print(\"Reverse list 1: \", rcolors)\n",
    "print(\"Reverse list 2: \", rcolors_2)"
   ]
  },
  {
   "cell_type": "code",
   "execution_count": 20,
   "metadata": {},
   "outputs": [
    {
     "name": "stdout",
     "output_type": "stream",
     "text": [
      "Sorted list:  ['black', 'blue', 'green', 'white', 'yellow']\n"
     ]
    }
   ],
   "source": [
    "colors.sort() # sort list by alphabetc order.\n",
    "print(\"Sorted list: \", colors)"
   ]
  },
  {
   "cell_type": "markdown",
   "metadata": {},
   "source": [
    "## Tuples \n",
    "\n",
    "    A tuple is a sequence of immutable Python objects. Tuples are sequences, just like lists. \n",
    "    The differences between tuples and lists are, the tuples cannot be changed unlike lists and tuples use parentheses, whereas lists use square brackets."
   ]
  },
  {
   "cell_type": "code",
   "execution_count": 21,
   "metadata": {},
   "outputs": [
    {
     "name": "stdout",
     "output_type": "stream",
     "text": [
      "Classes: physics, seismology -> year: 2019\n"
     ]
    }
   ],
   "source": [
    "classes_2019_tuple = ('physics', \"seismology\", 2019)\n",
    "print(\"Classes: {}, {} -> year: {}\".format(classes_2019_tuple[0], classes_2019_tuple[1], classes_2019_tuple[2]))"
   ]
  },
  {
   "cell_type": "code",
   "execution_count": 22,
   "metadata": {},
   "outputs": [
    {
     "name": "stdout",
     "output_type": "stream",
     "text": [
      "Except:  'tuple' object does not support item assignment\n"
     ]
    }
   ],
   "source": [
    "try:\n",
    "    classes_2019_tuple[2] = 2020 # can't do that. Tuples are fix\n",
    "except TypeError as error:\n",
    "    print(\"Except: \", error)"
   ]
  },
  {
   "cell_type": "markdown",
   "metadata": {},
   "source": [
    "# Dictionaries\n",
    "\n",
    "    Each key is separated from its value by a colon (:), the items are separated by commas, and the whole thing is enclosed in curly braces.\n",
    "    \n",
    "    Dictionaries are very useful to map data structures."
   ]
  },
  {
   "cell_type": "code",
   "execution_count": 23,
   "metadata": {},
   "outputs": [],
   "source": [
    "contacts = {} # initialize an empty dict"
   ]
  },
  {
   "cell_type": "code",
   "execution_count": 24,
   "metadata": {},
   "outputs": [],
   "source": [
    "contacts[\"Francis\"] = 5915 # add entry\n",
    "contacts.update({'Emmmanuelle': 5752}) # add the {key:values}"
   ]
  },
  {
   "cell_type": "code",
   "execution_count": 25,
   "metadata": {},
   "outputs": [
    {
     "name": "stdout",
     "output_type": "stream",
     "text": [
      "{'Francis': 5915, 'Emmmanuelle': 5752}\n",
      "dict_keys(['Francis', 'Emmmanuelle'])\n",
      "dict_values([5915, 5752])\n"
     ]
    }
   ],
   "source": [
    "print(contacts)\n",
    "print(contacts.keys())\n",
    "print(contacts.values())"
   ]
  },
  {
   "cell_type": "markdown",
   "metadata": {},
   "source": [
    "### Advanced way of creating a dict from lists"
   ]
  },
  {
   "cell_type": "code",
   "execution_count": 26,
   "metadata": {},
   "outputs": [],
   "source": [
    "list_of_names = [\"Anna\", \"Julia\", \"Lucas\", \"Michael\"]\n",
    "list_of_phones = [1024, 2233, 4433, 7765]\n",
    "\n",
    "# Create a dictionary using list comprehensions\n",
    "my_contacts = {name: number for name, number in zip(list_of_names, list_of_phones)} \n",
    "contacs_name_lenght = {name: len(name) for name in list_of_names} "
   ]
  },
  {
   "cell_type": "code",
   "execution_count": 27,
   "metadata": {},
   "outputs": [
    {
     "name": "stdout",
     "output_type": "stream",
     "text": [
      "{'Anna': 1024, 'Julia': 2233, 'Lucas': 4433, 'Michael': 7765}\n"
     ]
    }
   ],
   "source": [
    "print(my_contacts)"
   ]
  },
  {
   "cell_type": "code",
   "execution_count": 28,
   "metadata": {},
   "outputs": [
    {
     "name": "stdout",
     "output_type": "stream",
     "text": [
      "{'Anna': 4, 'Julia': 5, 'Lucas': 5, 'Michael': 7}\n"
     ]
    }
   ],
   "source": [
    "print(contacs_name_lenght)"
   ]
  },
  {
   "cell_type": "markdown",
   "metadata": {},
   "source": [
    "# Sets\n",
    "\n",
    "Sets are a collection of distinct (unique) objects. It may consist of various elements; the order of elements in a set is undefined. You can add and delete elements of a set, you can iterate the elements of the set, you can perform standard operations on sets (union, intersection, difference). Besides that, you can check if an element belongs to a set."
   ]
  },
  {
   "cell_type": "markdown",
   "metadata": {},
   "source": [
    "The order of elements is unimportant. For example, the program will print True, because A and B are equal sets."
   ]
  },
  {
   "cell_type": "code",
   "execution_count": 29,
   "metadata": {},
   "outputs": [
    {
     "name": "stdout",
     "output_type": "stream",
     "text": [
      "True\n"
     ]
    }
   ],
   "source": [
    "A = {1, 2, 3}\n",
    "B = {3, 2, 3, 1}\n",
    "print(A == B)"
   ]
  },
  {
   "cell_type": "markdown",
   "metadata": {},
   "source": [
    "Each element may enter the set only once. set('Hello') returns the set of four elements: {'H', 'e', 'l', 'o'}."
   ]
  },
  {
   "cell_type": "code",
   "execution_count": 30,
   "metadata": {},
   "outputs": [
    {
     "data": {
      "text/plain": [
       "{'H', 'e', 'l', 'o'}"
      ]
     },
     "execution_count": 30,
     "metadata": {},
     "output_type": "execute_result"
    }
   ],
   "source": [
    "hello = set('Hello')\n",
    "hello"
   ]
  },
  {
   "cell_type": "markdown",
   "metadata": {},
   "source": [
    "These are useful to create lists that only hold unique values in the dataset. It is an unordered collection but a mutable one, this is very helpful when going through a huge dataset."
   ]
  },
  {
   "cell_type": "code",
   "execution_count": 31,
   "metadata": {},
   "outputs": [
    {
     "data": {
      "text/plain": [
       "{1, 2, 5, 7}"
      ]
     },
     "execution_count": 31,
     "metadata": {},
     "output_type": "execute_result"
    }
   ],
   "source": [
    "set_from_list = set([1,1,2,5,7,5]) # create a set of unique numbers \n",
    "set_from_list"
   ]
  },
  {
   "cell_type": "code",
   "execution_count": 32,
   "metadata": {},
   "outputs": [
    {
     "data": {
      "text/plain": [
       "[1, 2, 5, 7]"
      ]
     },
     "execution_count": 32,
     "metadata": {},
     "output_type": "execute_result"
    }
   ],
   "source": [
    "filter_list = list(set_from_list) # cast back to a list with unique numbers.\n",
    "filter_list"
   ]
  },
  {
   "cell_type": "markdown",
   "metadata": {},
   "source": [
    "# Files\n",
    "\n",
    "    Most applications will use files as data input/output. \n",
    "    In python is fairly easy to work with them.  "
   ]
  },
  {
   "cell_type": "markdown",
   "metadata": {},
   "source": [
    "Use the block <font color='green' style=\"font-weight:bold\">with</font> to open a file, this ensures that the file will always be closed after used. "
   ]
  },
  {
   "cell_type": "code",
   "execution_count": 33,
   "metadata": {},
   "outputs": [
    {
     "name": "stdout",
     "output_type": "stream",
     "text": [
      "That is my first file from python!!\n",
      "\n"
     ]
    }
   ],
   "source": [
    "with open(\"myFirstFile.txt\", mode='r') as file:\n",
    "    data = file.read()\n",
    "    print(data)"
   ]
  },
  {
   "cell_type": "code",
   "execution_count": 34,
   "metadata": {},
   "outputs": [
    {
     "name": "stdout",
     "output_type": "stream",
     "text": [
      "myFirstFileFromPython.txt\n"
     ]
    }
   ],
   "source": [
    "data = 'This file was created by pyhton!!'\n",
    "with open(\"myFirstFileFromPython.txt\", mode='w') as file:\n",
    "    file.write(data)\n",
    "    print(file.name)"
   ]
  },
  {
   "cell_type": "code",
   "execution_count": 35,
   "metadata": {},
   "outputs": [
    {
     "name": "stdout",
     "output_type": "stream",
     "text": [
      "myFirstFileFromPython.txt  myFirstFile.txt\r\n"
     ]
    }
   ],
   "source": [
    "%ls *.txt"
   ]
  },
  {
   "cell_type": "code",
   "execution_count": 36,
   "metadata": {},
   "outputs": [
    {
     "name": "stdout",
     "output_type": "stream",
     "text": [
      "This file was created by pyhton!!\n"
     ]
    }
   ],
   "source": [
    "with open(\"myFirstFileFromPython.txt\", mode='r') as file:\n",
    "    data = file.read()\n",
    "    print(data)"
   ]
  },
  {
   "cell_type": "markdown",
   "metadata": {},
   "source": [
    "### Read images with matplotlib"
   ]
  },
  {
   "cell_type": "code",
   "execution_count": 37,
   "metadata": {},
   "outputs": [],
   "source": [
    " %matplotlib inline\n",
    "import matplotlib.pyplot as plt\n",
    "import matplotlib.image as mpimg"
   ]
  },
  {
   "cell_type": "code",
   "execution_count": 38,
   "metadata": {},
   "outputs": [
    {
     "data": {
      "text/plain": [
       "array([[[1., 1., 1., 1.],\n",
       "        [1., 1., 1., 1.],\n",
       "        [1., 1., 1., 1.],\n",
       "        ...,\n",
       "        [1., 1., 1., 1.],\n",
       "        [1., 1., 1., 1.],\n",
       "        [1., 1., 1., 1.]],\n",
       "\n",
       "       [[1., 1., 1., 1.],\n",
       "        [1., 1., 1., 1.],\n",
       "        [1., 1., 1., 1.],\n",
       "        ...,\n",
       "        [1., 1., 1., 1.],\n",
       "        [1., 1., 1., 1.],\n",
       "        [1., 1., 1., 1.]],\n",
       "\n",
       "       [[1., 1., 1., 1.],\n",
       "        [1., 1., 1., 1.],\n",
       "        [1., 1., 1., 1.],\n",
       "        ...,\n",
       "        [1., 1., 1., 1.],\n",
       "        [1., 1., 1., 1.],\n",
       "        [1., 1., 1., 1.]],\n",
       "\n",
       "       ...,\n",
       "\n",
       "       [[1., 1., 1., 1.],\n",
       "        [1., 1., 1., 1.],\n",
       "        [1., 1., 1., 1.],\n",
       "        ...,\n",
       "        [1., 1., 1., 1.],\n",
       "        [1., 1., 1., 1.],\n",
       "        [1., 1., 1., 1.]],\n",
       "\n",
       "       [[1., 1., 1., 1.],\n",
       "        [1., 1., 1., 1.],\n",
       "        [1., 1., 1., 1.],\n",
       "        ...,\n",
       "        [1., 1., 1., 1.],\n",
       "        [1., 1., 1., 1.],\n",
       "        [1., 1., 1., 1.]],\n",
       "\n",
       "       [[1., 1., 1., 1.],\n",
       "        [1., 1., 1., 1.],\n",
       "        [1., 1., 1., 1.],\n",
       "        ...,\n",
       "        [1., 1., 1., 1.],\n",
       "        [1., 1., 1., 1.],\n",
       "        [1., 1., 1., 1.]]], dtype=float32)"
      ]
     },
     "execution_count": 38,
     "metadata": {},
     "output_type": "execute_result"
    }
   ],
   "source": [
    "img=mpimg.imread('../images/spectrograms.png')\n",
    "img"
   ]
  },
  {
   "cell_type": "code",
   "execution_count": 39,
   "metadata": {},
   "outputs": [
    {
     "data": {
      "image/png": "[encoded data removed]",
      "text/plain": [
       "<Figure size 432x288 with 1 Axes>"
      ]
     },
     "metadata": {
      "needs_background": "light"
     },
     "output_type": "display_data"
    }
   ],
   "source": [
    "imgplot = plt.imshow(img)"
   ]
  },
  {
   "cell_type": "code",
   "execution_count": null,
   "metadata": {},
   "outputs": [],
   "source": []
  }
 ],
 "metadata": {
  "kernelspec": {
   "display_name": "Python 3",
   "language": "python",
   "name": "python3"
  },
  "language_info": {
   "codemirror_mode": {
    "name": "ipython",
    "version": 3
   },
   "file_extension": ".py",
   "mimetype": "text/x-python",
   "name": "python",
   "nbconvert_exporter": "python",
   "pygments_lexer": "ipython3",
   "version": "3.4.3"
  }
 },
 "nbformat": 4,
 "nbformat_minor": 2
}
